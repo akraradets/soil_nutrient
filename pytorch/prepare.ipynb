{
 "cells": [
  {
   "cell_type": "code",
   "execution_count": 2,
   "metadata": {},
   "outputs": [],
   "source": [
    "from glob import glob\n",
    "import os\n"
   ]
  },
  {
   "cell_type": "code",
   "execution_count": 12,
   "metadata": {},
   "outputs": [],
   "source": [
    "filenames = glob(f\"./dataset/phones/Samsung/*\")\n",
    "for filename in filenames:\n",
    "    path, name = os.path.split(filename)\n",
    "    name, ext = os.path.splitext(name)\n",
    "    # print(name)\n",
    "    id = int(name.split('_')[0].strip('()'))\n",
    "    # if(id in list(range(60,92+1))):\n",
    "\n",
    "    #     id, OM, lab_no, soil_character, place, variant = name.split('_')\n",
    "    #     newname = f\"{id}_O_{OM}_{lab_no}_{soil_character}_{place}_{variant}.jpg\"\n",
    "        # print(name, newname)\n",
    "        # newname = os.path.join(path,newname)\n",
    "        # os.rename(filename, newname)\n",
    "    id, phone_brand, OM, lab_no, soil_character, place, variant = name.split('_')\n",
    "    # id = int(id.strip('()'))\n",
    "    # OM = float(name.split('_')[2])\n",
    "    # # print(id, phone_brand, OM, lab_no, soil_character, place, variant)\n",
    "    # newname = f\"{id} ({phone_brand}_{soil_character}_{place}_{variant}){ext}\"\n",
    "    # print(newname)"
   ]
  },
  {
   "cell_type": "code",
   "execution_count": null,
   "metadata": {},
   "outputs": [],
   "source": []
  }
 ],
 "metadata": {
  "kernelspec": {
   "display_name": "Python 3",
   "language": "python",
   "name": "python3"
  },
  "language_info": {
   "codemirror_mode": {
    "name": "ipython",
    "version": 3
   },
   "file_extension": ".py",
   "mimetype": "text/x-python",
   "name": "python",
   "nbconvert_exporter": "python",
   "pygments_lexer": "ipython3",
   "version": "3.10.6"
  },
  "orig_nbformat": 4,
  "vscode": {
   "interpreter": {
    "hash": "916dbcbb3f70747c44a77c7bcd40155683ae19c65e1c03b4aa3499c5328201f1"
   }
  }
 },
 "nbformat": 4,
 "nbformat_minor": 2
}
