{
 "cells": [
  {
   "cell_type": "code",
   "execution_count": 1,
   "metadata": {},
   "outputs": [],
   "source": [
    "from components.dataset import *\n",
    "from torch.utils.data import random_split\n",
    "import os\n",
    "import shutil\n",
    "import pandas as pd"
   ]
  },
  {
   "cell_type": "code",
   "execution_count": 42,
   "metadata": {},
   "outputs": [
    {
     "data": {
      "text/html": [
       "<div>\n",
       "<style scoped>\n",
       "    .dataframe tbody tr th:only-of-type {\n",
       "        vertical-align: middle;\n",
       "    }\n",
       "\n",
       "    .dataframe tbody tr th {\n",
       "        vertical-align: top;\n",
       "    }\n",
       "\n",
       "    .dataframe thead th {\n",
       "        text-align: right;\n",
       "    }\n",
       "</style>\n",
       "<table border=\"1\" class=\"dataframe\">\n",
       "  <thead>\n",
       "    <tr style=\"text-align: right;\">\n",
       "      <th></th>\n",
       "      <th>Image name</th>\n",
       "      <th>Target</th>\n",
       "      <th>Predict</th>\n",
       "      <th>set</th>\n",
       "    </tr>\n",
       "  </thead>\n",
       "  <tbody>\n",
       "    <tr>\n",
       "      <th>0</th>\n",
       "      <td>./dataset/bigset/P/Iphone/Outdoor/151/IMG_E789...</td>\n",
       "      <td>183.0</td>\n",
       "      <td>158.11613</td>\n",
       "      <td>None</td>\n",
       "    </tr>\n",
       "    <tr>\n",
       "      <th>1</th>\n",
       "      <td>./dataset/bigset/P/Iphone/Outdoor/151/IMG_E789...</td>\n",
       "      <td>183.0</td>\n",
       "      <td>182.06800</td>\n",
       "      <td>None</td>\n",
       "    </tr>\n",
       "    <tr>\n",
       "      <th>2</th>\n",
       "      <td>./dataset/bigset/P/Iphone/Outdoor/151/IMG_E789...</td>\n",
       "      <td>183.0</td>\n",
       "      <td>179.37212</td>\n",
       "      <td>None</td>\n",
       "    </tr>\n",
       "    <tr>\n",
       "      <th>3</th>\n",
       "      <td>./dataset/bigset/P/Iphone/Outdoor/151/IMG_E789...</td>\n",
       "      <td>183.0</td>\n",
       "      <td>150.29765</td>\n",
       "      <td>None</td>\n",
       "    </tr>\n",
       "    <tr>\n",
       "      <th>4</th>\n",
       "      <td>./dataset/bigset/P/Iphone/Outdoor/126/IMG_E777...</td>\n",
       "      <td>95.0</td>\n",
       "      <td>80.22028</td>\n",
       "      <td>None</td>\n",
       "    </tr>\n",
       "    <tr>\n",
       "      <th>...</th>\n",
       "      <td>...</td>\n",
       "      <td>...</td>\n",
       "      <td>...</td>\n",
       "      <td>...</td>\n",
       "    </tr>\n",
       "    <tr>\n",
       "      <th>7098</th>\n",
       "      <td>./dataset/bigset/P/Redmi/Outdoor/229/IMG_20230...</td>\n",
       "      <td>1000.0</td>\n",
       "      <td>974.07227</td>\n",
       "      <td>None</td>\n",
       "    </tr>\n",
       "    <tr>\n",
       "      <th>7099</th>\n",
       "      <td>./dataset/bigset/P/Redmi/Outdoor/229/IMG_20230...</td>\n",
       "      <td>1000.0</td>\n",
       "      <td>934.43677</td>\n",
       "      <td>None</td>\n",
       "    </tr>\n",
       "    <tr>\n",
       "      <th>7100</th>\n",
       "      <td>./dataset/bigset/P/Redmi/Outdoor/229/IMG_20230...</td>\n",
       "      <td>1000.0</td>\n",
       "      <td>969.53530</td>\n",
       "      <td>None</td>\n",
       "    </tr>\n",
       "    <tr>\n",
       "      <th>7101</th>\n",
       "      <td>./dataset/bigset/P/Redmi/Outdoor/229/IMG_20230...</td>\n",
       "      <td>1000.0</td>\n",
       "      <td>974.44370</td>\n",
       "      <td>None</td>\n",
       "    </tr>\n",
       "    <tr>\n",
       "      <th>7102</th>\n",
       "      <td>./dataset/bigset/P/Redmi/Outdoor/229/IMG_20230...</td>\n",
       "      <td>1000.0</td>\n",
       "      <td>965.90260</td>\n",
       "      <td>None</td>\n",
       "    </tr>\n",
       "  </tbody>\n",
       "</table>\n",
       "<p>7103 rows × 4 columns</p>\n",
       "</div>"
      ],
      "text/plain": [
       "                                             Image name  Target    Predict  \\\n",
       "0     ./dataset/bigset/P/Iphone/Outdoor/151/IMG_E789...   183.0  158.11613   \n",
       "1     ./dataset/bigset/P/Iphone/Outdoor/151/IMG_E789...   183.0  182.06800   \n",
       "2     ./dataset/bigset/P/Iphone/Outdoor/151/IMG_E789...   183.0  179.37212   \n",
       "3     ./dataset/bigset/P/Iphone/Outdoor/151/IMG_E789...   183.0  150.29765   \n",
       "4     ./dataset/bigset/P/Iphone/Outdoor/126/IMG_E777...    95.0   80.22028   \n",
       "...                                                 ...     ...        ...   \n",
       "7098  ./dataset/bigset/P/Redmi/Outdoor/229/IMG_20230...  1000.0  974.07227   \n",
       "7099  ./dataset/bigset/P/Redmi/Outdoor/229/IMG_20230...  1000.0  934.43677   \n",
       "7100  ./dataset/bigset/P/Redmi/Outdoor/229/IMG_20230...  1000.0  969.53530   \n",
       "7101  ./dataset/bigset/P/Redmi/Outdoor/229/IMG_20230...  1000.0  974.44370   \n",
       "7102  ./dataset/bigset/P/Redmi/Outdoor/229/IMG_20230...  1000.0  965.90260   \n",
       "\n",
       "       set  \n",
       "0     None  \n",
       "1     None  \n",
       "2     None  \n",
       "3     None  \n",
       "4     None  \n",
       "...    ...  \n",
       "7098  None  \n",
       "7099  None  \n",
       "7100  None  \n",
       "7101  None  \n",
       "7102  None  \n",
       "\n",
       "[7103 rows x 4 columns]"
      ]
     },
     "execution_count": 42,
     "metadata": {},
     "output_type": "execute_result"
    }
   ],
   "source": [
    "df = pd.read_csv('alex-P.csv')\n",
    "df['set'] = None\n",
    "df"
   ]
  },
  {
   "cell_type": "code",
   "execution_count": 43,
   "metadata": {},
   "outputs": [],
   "source": [
    "image_set = Imageset.p\n",
    "device = Devices.all\n",
    "environment = Environments.all\n",
    "clip_target = False\n",
    "normalize_target = False"
   ]
  },
  {
   "cell_type": "code",
   "execution_count": 44,
   "metadata": {},
   "outputs": [
    {
     "name": "stdout",
     "output_type": "stream",
     "text": [
      "Found 7103 images in ./dataset/bigset/P/*/*.\n"
     ]
    }
   ],
   "source": [
    "dataset = SoilDataset_bigset(imageset=image_set, \n",
    "                                     device=device, \n",
    "                                     environment=environment, \n",
    "                                     preprocessing=Preprocessing.training,\n",
    "                                     clip_target=clip_target,\n",
    "                                     normalize_target=normalize_target)\n",
    "train_dataset, val_dataset = random_split(dataset=dataset, lengths=[0.8,0.2], generator=torch.Generator().manual_seed(42))"
   ]
  },
  {
   "cell_type": "code",
   "execution_count": 45,
   "metadata": {},
   "outputs": [],
   "source": [
    "for idx in train_dataset.indices:\n",
    "    imgpath = dataset.imgs[idx]\n",
    "    df.loc[df['Image name'] == imgpath, ('set')  ] = 'train'"
   ]
  },
  {
   "cell_type": "code",
   "execution_count": 46,
   "metadata": {},
   "outputs": [],
   "source": [
    "df.loc[df['set'] != 'train', ('set')] = 'test'"
   ]
  },
  {
   "cell_type": "code",
   "execution_count": 47,
   "metadata": {},
   "outputs": [],
   "source": [
    "df.to_csv('alex-P.csv')"
   ]
  },
  {
   "cell_type": "code",
   "execution_count": 5,
   "metadata": {},
   "outputs": [],
   "source": [
    "dst_path = os.path.join(folder, \"train\")\n",
    "if(os.path.exists(dst_path) == False):\n",
    "    os.makedirs(dst_path)\n",
    "for idx in train_dataset.indices:\n",
    "    img_path = dataset.imgs[idx]\n",
    "    img_name = os.path.split(img_path)[1]\n",
    "    shutil.copyfile(src=img_path, dst=os.path.join(dst_path, img_name))"
   ]
  },
  {
   "cell_type": "code",
   "execution_count": 6,
   "metadata": {},
   "outputs": [],
   "source": [
    "dst_path = os.path.join(folder, \"val\")\n",
    "if(os.path.exists(dst_path) == False):\n",
    "    os.makedirs(dst_path)\n",
    "for idx in val_dataset.indices:\n",
    "    img_path = dataset.imgs[idx]\n",
    "    img_name = os.path.split(img_path)[1]\n",
    "    shutil.copyfile(src=img_path, dst=os.path.join(dst_path, img_name))"
   ]
  }
 ],
 "metadata": {
  "kernelspec": {
   "display_name": "Python 3",
   "language": "python",
   "name": "python3"
  },
  "language_info": {
   "codemirror_mode": {
    "name": "ipython",
    "version": 3
   },
   "file_extension": ".py",
   "mimetype": "text/x-python",
   "name": "python",
   "nbconvert_exporter": "python",
   "pygments_lexer": "ipython3",
   "version": "3.10.12"
  }
 },
 "nbformat": 4,
 "nbformat_minor": 2
}
